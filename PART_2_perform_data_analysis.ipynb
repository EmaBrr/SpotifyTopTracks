{
 "cells": [
  {
   "cell_type": "code",
   "execution_count": 1,
   "metadata": {},
   "outputs": [],
   "source": [
    "import numpy as np \n",
    "import pandas as pd \n",
    "import matplotlib.pyplot as plt\n",
    "import seaborn as sns\n",
    "from scipy import stats"
   ]
  },
  {
   "cell_type": "code",
   "execution_count": 26,
   "metadata": {},
   "outputs": [
    {
     "data": {
      "text/html": [
       "<div>\n",
       "<style scoped>\n",
       "    .dataframe tbody tr th:only-of-type {\n",
       "        vertical-align: middle;\n",
       "    }\n",
       "\n",
       "    .dataframe tbody tr th {\n",
       "        vertical-align: top;\n",
       "    }\n",
       "\n",
       "    .dataframe thead th {\n",
       "        text-align: right;\n",
       "    }\n",
       "</style>\n",
       "<table border=\"1\" class=\"dataframe\">\n",
       "  <thead>\n",
       "    <tr style=\"text-align: right;\">\n",
       "      <th></th>\n",
       "      <th>artist</th>\n",
       "      <th>album</th>\n",
       "      <th>track_name</th>\n",
       "      <th>track_id</th>\n",
       "      <th>energy</th>\n",
       "      <th>danceability</th>\n",
       "      <th>key</th>\n",
       "      <th>loudness</th>\n",
       "      <th>acousticness</th>\n",
       "      <th>speechiness</th>\n",
       "      <th>instrumentalness</th>\n",
       "      <th>liveness</th>\n",
       "      <th>valence</th>\n",
       "      <th>tempo</th>\n",
       "      <th>genre</th>\n",
       "      <th>duration_ms</th>\n",
       "      <th>track_number</th>\n",
       "    </tr>\n",
       "  </thead>\n",
       "  <tbody>\n",
       "    <tr>\n",
       "      <th>0</th>\n",
       "      <td>The Weeknd</td>\n",
       "      <td>After Hours</td>\n",
       "      <td>Blinding Lights</td>\n",
       "      <td>0VjIjW4GlUZAMYd2vXMi3b</td>\n",
       "      <td>0.730</td>\n",
       "      <td>0.514</td>\n",
       "      <td>1</td>\n",
       "      <td>-5.934</td>\n",
       "      <td>0.00146</td>\n",
       "      <td>0.0598</td>\n",
       "      <td>0.000095</td>\n",
       "      <td>0.0897</td>\n",
       "      <td>0.334</td>\n",
       "      <td>171.005</td>\n",
       "      <td>R&amp;B/Soul</td>\n",
       "      <td>200040</td>\n",
       "      <td>0</td>\n",
       "    </tr>\n",
       "    <tr>\n",
       "      <th>1</th>\n",
       "      <td>Tones And I</td>\n",
       "      <td>Dance Monkey</td>\n",
       "      <td>Dance Monkey</td>\n",
       "      <td>1rgnBhdG2JDFTbYkYRZAku</td>\n",
       "      <td>0.593</td>\n",
       "      <td>0.825</td>\n",
       "      <td>6</td>\n",
       "      <td>-6.401</td>\n",
       "      <td>0.68800</td>\n",
       "      <td>0.0988</td>\n",
       "      <td>0.000161</td>\n",
       "      <td>0.1700</td>\n",
       "      <td>0.540</td>\n",
       "      <td>98.078</td>\n",
       "      <td>Alternative/Indie</td>\n",
       "      <td>209755</td>\n",
       "      <td>1</td>\n",
       "    </tr>\n",
       "    <tr>\n",
       "      <th>2</th>\n",
       "      <td>Roddy Ricch</td>\n",
       "      <td>Please Excuse Me For Being Antisocial</td>\n",
       "      <td>The Box</td>\n",
       "      <td>0nbXyq5TXYPCO7pr3N8S4I</td>\n",
       "      <td>0.586</td>\n",
       "      <td>0.896</td>\n",
       "      <td>10</td>\n",
       "      <td>-6.687</td>\n",
       "      <td>0.10400</td>\n",
       "      <td>0.0559</td>\n",
       "      <td>0.000000</td>\n",
       "      <td>0.7900</td>\n",
       "      <td>0.642</td>\n",
       "      <td>116.971</td>\n",
       "      <td>Hip-Hop/Rap</td>\n",
       "      <td>196653</td>\n",
       "      <td>2</td>\n",
       "    </tr>\n",
       "    <tr>\n",
       "      <th>3</th>\n",
       "      <td>SAINt JHN</td>\n",
       "      <td>Roses (Imanbek Remix)</td>\n",
       "      <td>Roses - Imanbek Remix</td>\n",
       "      <td>2Wo6QQD1KMDWeFkkjLqwx5</td>\n",
       "      <td>0.721</td>\n",
       "      <td>0.785</td>\n",
       "      <td>8</td>\n",
       "      <td>-5.457</td>\n",
       "      <td>0.01490</td>\n",
       "      <td>0.0506</td>\n",
       "      <td>0.004320</td>\n",
       "      <td>0.2850</td>\n",
       "      <td>0.894</td>\n",
       "      <td>121.962</td>\n",
       "      <td>Dance/Electronic</td>\n",
       "      <td>176219</td>\n",
       "      <td>3</td>\n",
       "    </tr>\n",
       "    <tr>\n",
       "      <th>4</th>\n",
       "      <td>Dua Lipa</td>\n",
       "      <td>Future Nostalgia</td>\n",
       "      <td>Don't Start Now</td>\n",
       "      <td>3PfIrDoz19wz7qK7tYeu62</td>\n",
       "      <td>0.793</td>\n",
       "      <td>0.793</td>\n",
       "      <td>11</td>\n",
       "      <td>-4.521</td>\n",
       "      <td>0.01230</td>\n",
       "      <td>0.0830</td>\n",
       "      <td>0.000000</td>\n",
       "      <td>0.0951</td>\n",
       "      <td>0.679</td>\n",
       "      <td>123.950</td>\n",
       "      <td>Nu-disco</td>\n",
       "      <td>183290</td>\n",
       "      <td>4</td>\n",
       "    </tr>\n",
       "  </tbody>\n",
       "</table>\n",
       "</div>"
      ],
      "text/plain": [
       "        artist                                  album             track_name  \\\n",
       "0   The Weeknd                            After Hours        Blinding Lights   \n",
       "1  Tones And I                           Dance Monkey           Dance Monkey   \n",
       "2  Roddy Ricch  Please Excuse Me For Being Antisocial                The Box   \n",
       "3    SAINt JHN                  Roses (Imanbek Remix)  Roses - Imanbek Remix   \n",
       "4     Dua Lipa                       Future Nostalgia        Don't Start Now   \n",
       "\n",
       "                 track_id  energy  danceability  key  loudness  acousticness  \\\n",
       "0  0VjIjW4GlUZAMYd2vXMi3b   0.730         0.514    1    -5.934       0.00146   \n",
       "1  1rgnBhdG2JDFTbYkYRZAku   0.593         0.825    6    -6.401       0.68800   \n",
       "2  0nbXyq5TXYPCO7pr3N8S4I   0.586         0.896   10    -6.687       0.10400   \n",
       "3  2Wo6QQD1KMDWeFkkjLqwx5   0.721         0.785    8    -5.457       0.01490   \n",
       "4  3PfIrDoz19wz7qK7tYeu62   0.793         0.793   11    -4.521       0.01230   \n",
       "\n",
       "   speechiness  instrumentalness  liveness  valence    tempo  \\\n",
       "0       0.0598          0.000095    0.0897    0.334  171.005   \n",
       "1       0.0988          0.000161    0.1700    0.540   98.078   \n",
       "2       0.0559          0.000000    0.7900    0.642  116.971   \n",
       "3       0.0506          0.004320    0.2850    0.894  121.962   \n",
       "4       0.0830          0.000000    0.0951    0.679  123.950   \n",
       "\n",
       "               genre  duration_ms  track_number  \n",
       "0           R&B/Soul       200040             0  \n",
       "1  Alternative/Indie       209755             1  \n",
       "2        Hip-Hop/Rap       196653             2  \n",
       "3   Dance/Electronic       176219             3  \n",
       "4           Nu-disco       183290             4  "
      ]
     },
     "execution_count": 26,
     "metadata": {},
     "output_type": "execute_result"
    }
   ],
   "source": [
    "df = pd.read_csv('cleaned_spotifytoptracks.csv')\n",
    "df.head(5)"
   ]
  },
  {
   "cell_type": "markdown",
   "metadata": {},
   "source": [
    "### Perform exploratory data analysis:"
   ]
  },
  {
   "cell_type": "markdown",
   "metadata": {},
   "source": [
    "How many observations are there in this dataset?"
   ]
  },
  {
   "cell_type": "code",
   "execution_count": 28,
   "metadata": {},
   "outputs": [
    {
     "name": "stdout",
     "output_type": "stream",
     "text": [
      "The dataset has 50 observations.\n"
     ]
    }
   ],
   "source": [
    "num_records = len(df)\n",
    "print(f'The dataset has {num_records} observations.')"
   ]
  },
  {
   "cell_type": "markdown",
   "metadata": {},
   "source": [
    "How many features this dataset has?"
   ]
  },
  {
   "cell_type": "code",
   "execution_count": 29,
   "metadata": {},
   "outputs": [
    {
     "name": "stdout",
     "output_type": "stream",
     "text": [
      "The dataset has 17 features.\n"
     ]
    }
   ],
   "source": [
    "num_columns = len(df.columns)\n",
    "print(f'The dataset has {num_columns} features.')"
   ]
  },
  {
   "cell_type": "markdown",
   "metadata": {},
   "source": [
    "Which of the features are categorical?"
   ]
  },
  {
   "cell_type": "code",
   "execution_count": 30,
   "metadata": {},
   "outputs": [
    {
     "name": "stdout",
     "output_type": "stream",
     "text": [
      "Categorical Features: Index(['artist', 'album', 'track_name', 'track_id', 'genre'], dtype='object')\n"
     ]
    }
   ],
   "source": [
    "categorical_features = df.select_dtypes(include=['category', 'object']).columns\n",
    "print(f'Categorical Features: {categorical_features}')"
   ]
  },
  {
   "cell_type": "markdown",
   "metadata": {},
   "source": [
    "Which of the features are numeric?"
   ]
  },
  {
   "cell_type": "code",
   "execution_count": 31,
   "metadata": {},
   "outputs": [
    {
     "name": "stdout",
     "output_type": "stream",
     "text": [
      "Numerical Features: Index(['energy', 'danceability', 'key', 'loudness', 'acousticness',\n",
      "       'speechiness', 'instrumentalness', 'liveness', 'valence', 'tempo',\n",
      "       'duration_ms', 'track_number'],\n",
      "      dtype='object')\n"
     ]
    }
   ],
   "source": [
    "numerical_features = df.select_dtypes(include=[np.number]).columns\n",
    "print(f'Numerical Features: {numerical_features}')"
   ]
  },
  {
   "cell_type": "markdown",
   "metadata": {},
   "source": [
    "Are there any artists that have more than 1 popular track? If yes, which and how many?"
   ]
  },
  {
   "cell_type": "code",
   "execution_count": 32,
   "metadata": {},
   "outputs": [
    {
     "data": {
      "text/html": [
       "<div>\n",
       "<style scoped>\n",
       "    .dataframe tbody tr th:only-of-type {\n",
       "        vertical-align: middle;\n",
       "    }\n",
       "\n",
       "    .dataframe tbody tr th {\n",
       "        vertical-align: top;\n",
       "    }\n",
       "\n",
       "    .dataframe thead th {\n",
       "        text-align: right;\n",
       "    }\n",
       "</style>\n",
       "<table border=\"1\" class=\"dataframe\">\n",
       "  <thead>\n",
       "    <tr style=\"text-align: right;\">\n",
       "      <th></th>\n",
       "      <th>artist</th>\n",
       "      <th>album</th>\n",
       "      <th>track_name</th>\n",
       "      <th>track_id</th>\n",
       "      <th>energy</th>\n",
       "      <th>danceability</th>\n",
       "      <th>key</th>\n",
       "      <th>loudness</th>\n",
       "      <th>acousticness</th>\n",
       "      <th>speechiness</th>\n",
       "      <th>instrumentalness</th>\n",
       "      <th>liveness</th>\n",
       "      <th>valence</th>\n",
       "      <th>tempo</th>\n",
       "      <th>genre</th>\n",
       "      <th>duration_ms</th>\n",
       "      <th>track_number</th>\n",
       "    </tr>\n",
       "  </thead>\n",
       "  <tbody>\n",
       "    <tr>\n",
       "      <th>0</th>\n",
       "      <td>The Weeknd</td>\n",
       "      <td>After Hours</td>\n",
       "      <td>Blinding Lights</td>\n",
       "      <td>0VjIjW4GlUZAMYd2vXMi3b</td>\n",
       "      <td>0.730</td>\n",
       "      <td>0.514</td>\n",
       "      <td>1</td>\n",
       "      <td>-5.934</td>\n",
       "      <td>0.00146</td>\n",
       "      <td>0.0598</td>\n",
       "      <td>0.000095</td>\n",
       "      <td>0.0897</td>\n",
       "      <td>0.334</td>\n",
       "      <td>171.005</td>\n",
       "      <td>R&amp;B/Soul</td>\n",
       "      <td>200040</td>\n",
       "      <td>0</td>\n",
       "    </tr>\n",
       "    <tr>\n",
       "      <th>1</th>\n",
       "      <td>Tones And I</td>\n",
       "      <td>Dance Monkey</td>\n",
       "      <td>Dance Monkey</td>\n",
       "      <td>1rgnBhdG2JDFTbYkYRZAku</td>\n",
       "      <td>0.593</td>\n",
       "      <td>0.825</td>\n",
       "      <td>6</td>\n",
       "      <td>-6.401</td>\n",
       "      <td>0.68800</td>\n",
       "      <td>0.0988</td>\n",
       "      <td>0.000161</td>\n",
       "      <td>0.1700</td>\n",
       "      <td>0.540</td>\n",
       "      <td>98.078</td>\n",
       "      <td>Alternative/Indie</td>\n",
       "      <td>209755</td>\n",
       "      <td>1</td>\n",
       "    </tr>\n",
       "    <tr>\n",
       "      <th>2</th>\n",
       "      <td>Roddy Ricch</td>\n",
       "      <td>Please Excuse Me For Being Antisocial</td>\n",
       "      <td>The Box</td>\n",
       "      <td>0nbXyq5TXYPCO7pr3N8S4I</td>\n",
       "      <td>0.586</td>\n",
       "      <td>0.896</td>\n",
       "      <td>10</td>\n",
       "      <td>-6.687</td>\n",
       "      <td>0.10400</td>\n",
       "      <td>0.0559</td>\n",
       "      <td>0.000000</td>\n",
       "      <td>0.7900</td>\n",
       "      <td>0.642</td>\n",
       "      <td>116.971</td>\n",
       "      <td>Hip-Hop/Rap</td>\n",
       "      <td>196653</td>\n",
       "      <td>2</td>\n",
       "    </tr>\n",
       "    <tr>\n",
       "      <th>3</th>\n",
       "      <td>SAINt JHN</td>\n",
       "      <td>Roses (Imanbek Remix)</td>\n",
       "      <td>Roses - Imanbek Remix</td>\n",
       "      <td>2Wo6QQD1KMDWeFkkjLqwx5</td>\n",
       "      <td>0.721</td>\n",
       "      <td>0.785</td>\n",
       "      <td>8</td>\n",
       "      <td>-5.457</td>\n",
       "      <td>0.01490</td>\n",
       "      <td>0.0506</td>\n",
       "      <td>0.004320</td>\n",
       "      <td>0.2850</td>\n",
       "      <td>0.894</td>\n",
       "      <td>121.962</td>\n",
       "      <td>Dance/Electronic</td>\n",
       "      <td>176219</td>\n",
       "      <td>3</td>\n",
       "    </tr>\n",
       "    <tr>\n",
       "      <th>4</th>\n",
       "      <td>Dua Lipa</td>\n",
       "      <td>Future Nostalgia</td>\n",
       "      <td>Don't Start Now</td>\n",
       "      <td>3PfIrDoz19wz7qK7tYeu62</td>\n",
       "      <td>0.793</td>\n",
       "      <td>0.793</td>\n",
       "      <td>11</td>\n",
       "      <td>-4.521</td>\n",
       "      <td>0.01230</td>\n",
       "      <td>0.0830</td>\n",
       "      <td>0.000000</td>\n",
       "      <td>0.0951</td>\n",
       "      <td>0.679</td>\n",
       "      <td>123.950</td>\n",
       "      <td>Nu-disco</td>\n",
       "      <td>183290</td>\n",
       "      <td>4</td>\n",
       "    </tr>\n",
       "  </tbody>\n",
       "</table>\n",
       "</div>"
      ],
      "text/plain": [
       "        artist                                  album             track_name  \\\n",
       "0   The Weeknd                            After Hours        Blinding Lights   \n",
       "1  Tones And I                           Dance Monkey           Dance Monkey   \n",
       "2  Roddy Ricch  Please Excuse Me For Being Antisocial                The Box   \n",
       "3    SAINt JHN                  Roses (Imanbek Remix)  Roses - Imanbek Remix   \n",
       "4     Dua Lipa                       Future Nostalgia        Don't Start Now   \n",
       "\n",
       "                 track_id  energy  danceability  key  loudness  acousticness  \\\n",
       "0  0VjIjW4GlUZAMYd2vXMi3b   0.730         0.514    1    -5.934       0.00146   \n",
       "1  1rgnBhdG2JDFTbYkYRZAku   0.593         0.825    6    -6.401       0.68800   \n",
       "2  0nbXyq5TXYPCO7pr3N8S4I   0.586         0.896   10    -6.687       0.10400   \n",
       "3  2Wo6QQD1KMDWeFkkjLqwx5   0.721         0.785    8    -5.457       0.01490   \n",
       "4  3PfIrDoz19wz7qK7tYeu62   0.793         0.793   11    -4.521       0.01230   \n",
       "\n",
       "   speechiness  instrumentalness  liveness  valence    tempo  \\\n",
       "0       0.0598          0.000095    0.0897    0.334  171.005   \n",
       "1       0.0988          0.000161    0.1700    0.540   98.078   \n",
       "2       0.0559          0.000000    0.7900    0.642  116.971   \n",
       "3       0.0506          0.004320    0.2850    0.894  121.962   \n",
       "4       0.0830          0.000000    0.0951    0.679  123.950   \n",
       "\n",
       "               genre  duration_ms  track_number  \n",
       "0           R&B/Soul       200040             0  \n",
       "1  Alternative/Indie       209755             1  \n",
       "2        Hip-Hop/Rap       196653             2  \n",
       "3   Dance/Electronic       176219             3  \n",
       "4           Nu-disco       183290             4  "
      ]
     },
     "execution_count": 32,
     "metadata": {},
     "output_type": "execute_result"
    }
   ],
   "source": [
    "df.head(5)"
   ]
  },
  {
   "cell_type": "code",
   "execution_count": 33,
   "metadata": {},
   "outputs": [
    {
     "name": "stdout",
     "output_type": "stream",
     "text": [
      "artist\n",
      "Billie Eilish    3\n",
      "Dua Lipa         3\n",
      "Harry Styles     2\n",
      "Justin Bieber    2\n",
      "Lewis Capaldi    2\n",
      "Post Malone      2\n",
      "Travis Scott     3\n",
      "Name: track_name, dtype: int64\n"
     ]
    }
   ],
   "source": [
    "artist_track_counts = df.groupby('artist')['track_name'].count()\n",
    "artists_with_more_than_one_track = artist_track_counts[artist_track_counts > 1]\n",
    "print(artists_with_more_than_one_track)"
   ]
  },
  {
   "cell_type": "markdown",
   "metadata": {},
   "source": [
    "Who was the most popular artist?"
   ]
  },
  {
   "cell_type": "code",
   "execution_count": 34,
   "metadata": {},
   "outputs": [
    {
     "name": "stdout",
     "output_type": "stream",
     "text": [
      "The artist(s) with the most tracks (3 tracks) are:\n",
      "'Billie Eilish' with 3 tracks.\n",
      "'Dua Lipa' with 3 tracks.\n",
      "'Travis Scott' with 3 tracks.\n"
     ]
    }
   ],
   "source": [
    "artist_popularity = df.groupby('artist')['track_name'].count()\n",
    "\n",
    "max_tracks_count = artist_popularity.max() #3\n",
    "\n",
    "artists_with_max_tracks = artist_popularity[artist_popularity == max_tracks_count]\n",
    "\n",
    "if not artists_with_max_tracks.empty:\n",
    "    print(f\"The artist(s) with the most tracks ({max_tracks_count} tracks) are:\")\n",
    "    for artist, count in artists_with_max_tracks.items():\n",
    "        print(f\"'{artist}' with {count} tracks.\")\n",
    "else:\n",
    "    print(\"No artists have tracks in the dataset.\")"
   ]
  },
  {
   "cell_type": "markdown",
   "metadata": {},
   "source": [
    "How many artists in total have their songs in the top 50?"
   ]
  },
  {
   "cell_type": "code",
   "execution_count": 35,
   "metadata": {},
   "outputs": [
    {
     "name": "stdout",
     "output_type": "stream",
     "text": [
      "The number of distinct artists is: 40\n"
     ]
    }
   ],
   "source": [
    "distinct_artists_count = df['artist'].nunique()\n",
    "print(f\"The number of distinct artists is: {distinct_artists_count}\")"
   ]
  },
  {
   "cell_type": "markdown",
   "metadata": {},
   "source": [
    "Are there any albums that have more than 1 popular track? If yes, which and how many?"
   ]
  },
  {
   "cell_type": "code",
   "execution_count": 36,
   "metadata": {},
   "outputs": [
    {
     "name": "stdout",
     "output_type": "stream",
     "text": [
      "album\n",
      "Changes                 2\n",
      "Fine Line               2\n",
      "Future Nostalgia        3\n",
      "Hollywood's Bleeding    2\n",
      "Name: track_name, dtype: int64\n"
     ]
    }
   ],
   "source": [
    "album_counts = df.groupby('album')['track_name'].count()\n",
    "album_with_more_than_one_track = album_counts[album_counts > 1]\n",
    "print(album_with_more_than_one_track)"
   ]
  },
  {
   "cell_type": "markdown",
   "metadata": {},
   "source": [
    "How many albums in total have their songs in the top 50?"
   ]
  },
  {
   "cell_type": "code",
   "execution_count": 37,
   "metadata": {},
   "outputs": [
    {
     "name": "stdout",
     "output_type": "stream",
     "text": [
      "The number of distinct album is: 45\n"
     ]
    }
   ],
   "source": [
    "distinct_albums_count = df['album'].nunique()\n",
    "print(f\"The number of distinct album is: {distinct_albums_count}\")"
   ]
  },
  {
   "cell_type": "markdown",
   "metadata": {},
   "source": [
    "Which tracks have a danceability score above 0.7?"
   ]
  },
  {
   "cell_type": "code",
   "execution_count": 38,
   "metadata": {},
   "outputs": [
    {
     "name": "stdout",
     "output_type": "stream",
     "text": [
      "                                       track_name  danceability\n",
      "1                                    Dance Monkey         0.825\n",
      "2                                         The Box         0.896\n",
      "3                           Roses - Imanbek Remix         0.785\n",
      "4                                 Don't Start Now         0.793\n",
      "5                    ROCKSTAR (feat. Roddy Ricch)         0.746\n",
      "7                death bed (coffee for your head)         0.726\n",
      "8                                         Falling         0.784\n",
      "10                                           Tusa         0.803\n",
      "13                                Blueberry Faygo         0.774\n",
      "14                       Intentions (feat. Quavo)         0.806\n",
      "15                                   Toosie Slide         0.830\n",
      "17                                         Say So         0.787\n",
      "18                                       Memories         0.764\n",
      "19                     Life Is Good (feat. Drake)         0.795\n",
      "20               Savage Love (Laxed - Siren Beat)         0.767\n",
      "22                                    Breaking Me         0.789\n",
      "24                            everything i wanted         0.704\n",
      "25                                       Señorita         0.759\n",
      "26                                        bad guy         0.701\n",
      "27                WAP (feat. Megan Thee Stallion)         0.935\n",
      "28                                    Sunday Best         0.878\n",
      "29                    Godzilla (feat. Juice WRLD)         0.808\n",
      "31                                 Break My Heart         0.730\n",
      "32                                       Dynamite         0.746\n",
      "33               Supalonely (feat. Gus Dapperton)         0.862\n",
      "37  Sunflower - Spider-Man: Into the Spider-Verse         0.755\n",
      "38                                          Hawái         0.783\n",
      "39                                        Ride It         0.880\n",
      "40                                     goosebumps         0.841\n",
      "41                      RITMO (Bad Boys For Life)         0.723\n",
      "42                                     THE SCOTTS         0.716\n",
      "49                                     SICKO MODE         0.834\n"
     ]
    }
   ],
   "source": [
    "danceability_0_7 = df[df['danceability'] > 0.7]\n",
    "print(danceability_0_7[['track_name', 'danceability']])"
   ]
  },
  {
   "cell_type": "markdown",
   "metadata": {},
   "source": [
    "Which tracks have a danceability score below 0.4?"
   ]
  },
  {
   "cell_type": "code",
   "execution_count": 39,
   "metadata": {},
   "outputs": [
    {
     "name": "stdout",
     "output_type": "stream",
     "text": [
      "              track_name  danceability\n",
      "44  lovely (with Khalid)         0.351\n"
     ]
    }
   ],
   "source": [
    "danceability_0_4 = df[df['danceability'] < 0.4]\n",
    "print(danceability_0_4[['track_name', 'danceability']])"
   ]
  },
  {
   "cell_type": "markdown",
   "metadata": {},
   "source": [
    "Which tracks have their loudness above -5?"
   ]
  },
  {
   "cell_type": "code",
   "execution_count": 40,
   "metadata": {},
   "outputs": [
    {
     "name": "stdout",
     "output_type": "stream",
     "text": [
      "                                       track_name  loudness\n",
      "4                                 Don't Start Now    -4.521\n",
      "6                                Watermelon Sugar    -4.209\n",
      "10                                           Tusa    -3.280\n",
      "12                                        Circles    -3.497\n",
      "16                                  Before You Go    -4.858\n",
      "17                                         Say So    -4.577\n",
      "21                                      Adore You    -3.675\n",
      "23                         Mood (feat. iann dior)    -3.558\n",
      "31                                 Break My Heart    -3.434\n",
      "32                                       Dynamite    -4.410\n",
      "33               Supalonely (feat. Gus Dapperton)    -4.746\n",
      "35                Rain On Me (with Ariana Grande)    -3.764\n",
      "37  Sunflower - Spider-Man: Into the Spider-Verse    -4.368\n",
      "38                                          Hawái    -3.454\n",
      "39                                        Ride It    -4.258\n",
      "40                                     goosebumps    -3.370\n",
      "43                                        Safaera    -4.074\n",
      "48                                       Physical    -3.756\n",
      "49                                     SICKO MODE    -3.714\n"
     ]
    }
   ],
   "source": [
    "loudness_5 = df[df['loudness'] > -5]\n",
    "print(loudness_5[['track_name', 'loudness']])"
   ]
  },
  {
   "cell_type": "markdown",
   "metadata": {},
   "source": [
    "Which tracks have their loudness below -8?"
   ]
  },
  {
   "cell_type": "code",
   "execution_count": 41,
   "metadata": {},
   "outputs": [
    {
     "name": "stdout",
     "output_type": "stream",
     "text": [
      "                                        track_name  loudness\n",
      "7                 death bed (coffee for your head)    -8.765\n",
      "8                                          Falling    -8.756\n",
      "15                                    Toosie Slide    -8.820\n",
      "20                Savage Love (Laxed - Siren Beat)    -8.520\n",
      "24                             everything i wanted   -14.454\n",
      "26                                         bad guy   -10.965\n",
      "36                             HIGHEST IN THE ROOM    -8.764\n",
      "44                            lovely (with Khalid)   -10.109\n",
      "47  If the World Was Ending - feat. Julia Michaels   -10.086\n"
     ]
    }
   ],
   "source": [
    "loudness_8 = df[df['loudness'] < -8]\n",
    "print(loudness_8[['track_name', 'loudness']])"
   ]
  },
  {
   "cell_type": "markdown",
   "metadata": {},
   "source": [
    "Which track is the longest?"
   ]
  },
  {
   "cell_type": "code",
   "execution_count": 42,
   "metadata": {},
   "outputs": [
    {
     "data": {
      "text/html": [
       "<div>\n",
       "<style scoped>\n",
       "    .dataframe tbody tr th:only-of-type {\n",
       "        vertical-align: middle;\n",
       "    }\n",
       "\n",
       "    .dataframe tbody tr th {\n",
       "        vertical-align: top;\n",
       "    }\n",
       "\n",
       "    .dataframe thead th {\n",
       "        text-align: right;\n",
       "    }\n",
       "</style>\n",
       "<table border=\"1\" class=\"dataframe\">\n",
       "  <thead>\n",
       "    <tr style=\"text-align: right;\">\n",
       "      <th></th>\n",
       "      <th>artist</th>\n",
       "      <th>album</th>\n",
       "      <th>track_name</th>\n",
       "      <th>track_id</th>\n",
       "      <th>energy</th>\n",
       "      <th>danceability</th>\n",
       "      <th>key</th>\n",
       "      <th>loudness</th>\n",
       "      <th>acousticness</th>\n",
       "      <th>speechiness</th>\n",
       "      <th>instrumentalness</th>\n",
       "      <th>liveness</th>\n",
       "      <th>valence</th>\n",
       "      <th>tempo</th>\n",
       "      <th>genre</th>\n",
       "      <th>duration_ms</th>\n",
       "      <th>track_number</th>\n",
       "    </tr>\n",
       "  </thead>\n",
       "  <tbody>\n",
       "    <tr>\n",
       "      <th>43</th>\n",
       "      <td>Bad Bunny</td>\n",
       "      <td>YHLQMDLG</td>\n",
       "      <td>Safaera</td>\n",
       "      <td>2DEZmgHKAvm41k4J3R2E9Y</td>\n",
       "      <td>0.829</td>\n",
       "      <td>0.607</td>\n",
       "      <td>2</td>\n",
       "      <td>-4.074</td>\n",
       "      <td>0.01030</td>\n",
       "      <td>0.379</td>\n",
       "      <td>0.0</td>\n",
       "      <td>0.107</td>\n",
       "      <td>0.685</td>\n",
       "      <td>96.172</td>\n",
       "      <td>Alternative/reggaeton/experimental</td>\n",
       "      <td>295177</td>\n",
       "      <td>43</td>\n",
       "    </tr>\n",
       "    <tr>\n",
       "      <th>49</th>\n",
       "      <td>Travis Scott</td>\n",
       "      <td>ASTROWORLD</td>\n",
       "      <td>SICKO MODE</td>\n",
       "      <td>2xLMifQCjDGFmkHkpNLD9h</td>\n",
       "      <td>0.730</td>\n",
       "      <td>0.834</td>\n",
       "      <td>8</td>\n",
       "      <td>-3.714</td>\n",
       "      <td>0.00513</td>\n",
       "      <td>0.222</td>\n",
       "      <td>0.0</td>\n",
       "      <td>0.124</td>\n",
       "      <td>0.446</td>\n",
       "      <td>155.008</td>\n",
       "      <td>Hip-Hop/Rap</td>\n",
       "      <td>295177</td>\n",
       "      <td>49</td>\n",
       "    </tr>\n",
       "  </tbody>\n",
       "</table>\n",
       "</div>"
      ],
      "text/plain": [
       "          artist       album  track_name                track_id  energy  \\\n",
       "43     Bad Bunny    YHLQMDLG     Safaera  2DEZmgHKAvm41k4J3R2E9Y   0.829   \n",
       "49  Travis Scott  ASTROWORLD  SICKO MODE  2xLMifQCjDGFmkHkpNLD9h   0.730   \n",
       "\n",
       "    danceability  key  loudness  acousticness  speechiness  instrumentalness  \\\n",
       "43         0.607    2    -4.074       0.01030        0.379               0.0   \n",
       "49         0.834    8    -3.714       0.00513        0.222               0.0   \n",
       "\n",
       "    liveness  valence    tempo                               genre  \\\n",
       "43     0.107    0.685   96.172  Alternative/reggaeton/experimental   \n",
       "49     0.124    0.446  155.008                         Hip-Hop/Rap   \n",
       "\n",
       "    duration_ms  track_number  \n",
       "43       295177            43  \n",
       "49       295177            49  "
      ]
     },
     "execution_count": 42,
     "metadata": {},
     "output_type": "execute_result"
    }
   ],
   "source": [
    "max_duration = df['duration_ms'].max()\n",
    "longest_track = df[(df['duration_ms'] == max_duration)]\n",
    "longest_track"
   ]
  },
  {
   "cell_type": "markdown",
   "metadata": {},
   "source": [
    "Which track is the shortest?"
   ]
  },
  {
   "cell_type": "code",
   "execution_count": 43,
   "metadata": {},
   "outputs": [
    {
     "data": {
      "text/html": [
       "<div>\n",
       "<style scoped>\n",
       "    .dataframe tbody tr th:only-of-type {\n",
       "        vertical-align: middle;\n",
       "    }\n",
       "\n",
       "    .dataframe tbody tr th {\n",
       "        vertical-align: top;\n",
       "    }\n",
       "\n",
       "    .dataframe thead th {\n",
       "        text-align: right;\n",
       "    }\n",
       "</style>\n",
       "<table border=\"1\" class=\"dataframe\">\n",
       "  <thead>\n",
       "    <tr style=\"text-align: right;\">\n",
       "      <th></th>\n",
       "      <th>artist</th>\n",
       "      <th>album</th>\n",
       "      <th>track_name</th>\n",
       "      <th>track_id</th>\n",
       "      <th>energy</th>\n",
       "      <th>danceability</th>\n",
       "      <th>key</th>\n",
       "      <th>loudness</th>\n",
       "      <th>acousticness</th>\n",
       "      <th>speechiness</th>\n",
       "      <th>instrumentalness</th>\n",
       "      <th>liveness</th>\n",
       "      <th>valence</th>\n",
       "      <th>tempo</th>\n",
       "      <th>genre</th>\n",
       "      <th>duration_ms</th>\n",
       "      <th>track_number</th>\n",
       "    </tr>\n",
       "  </thead>\n",
       "  <tbody>\n",
       "    <tr>\n",
       "      <th>23</th>\n",
       "      <td>24kGoldn</td>\n",
       "      <td>Mood (feat. iann dior)</td>\n",
       "      <td>Mood (feat. iann dior)</td>\n",
       "      <td>3tjFYV6RSFtuktYl3ZtYcq</td>\n",
       "      <td>0.722</td>\n",
       "      <td>0.7</td>\n",
       "      <td>7</td>\n",
       "      <td>-3.558</td>\n",
       "      <td>0.221</td>\n",
       "      <td>0.0369</td>\n",
       "      <td>0.0</td>\n",
       "      <td>0.272</td>\n",
       "      <td>0.756</td>\n",
       "      <td>90.989</td>\n",
       "      <td>Pop rap</td>\n",
       "      <td>140526</td>\n",
       "      <td>23</td>\n",
       "    </tr>\n",
       "  </tbody>\n",
       "</table>\n",
       "</div>"
      ],
      "text/plain": [
       "      artist                   album              track_name  \\\n",
       "23  24kGoldn  Mood (feat. iann dior)  Mood (feat. iann dior)   \n",
       "\n",
       "                  track_id  energy  danceability  key  loudness  acousticness  \\\n",
       "23  3tjFYV6RSFtuktYl3ZtYcq   0.722           0.7    7    -3.558         0.221   \n",
       "\n",
       "    speechiness  instrumentalness  liveness  valence   tempo    genre  \\\n",
       "23       0.0369               0.0     0.272    0.756  90.989  Pop rap   \n",
       "\n",
       "    duration_ms  track_number  \n",
       "23       140526            23  "
      ]
     },
     "execution_count": 43,
     "metadata": {},
     "output_type": "execute_result"
    }
   ],
   "source": [
    "min_duration = df['duration_ms'].min()\n",
    "shortest_track = df[(df['duration_ms'] == min_duration)]\n",
    "shortest_track"
   ]
  },
  {
   "cell_type": "markdown",
   "metadata": {},
   "source": [
    "Which genre is the most popular?"
   ]
  },
  {
   "cell_type": "code",
   "execution_count": 44,
   "metadata": {},
   "outputs": [
    {
     "data": {
      "text/plain": [
       "genre\n",
       "Pop    14\n",
       "Name: track_name, dtype: int64"
      ]
     },
     "execution_count": 44,
     "metadata": {},
     "output_type": "execute_result"
    }
   ],
   "source": [
    "genre_counts = df.groupby('genre')['track_name'].count()\n",
    "max_count = genre_counts.max()\n",
    "most_popular_track = genre_counts[(genre_counts == max_count)]\n",
    "most_popular_track"
   ]
  },
  {
   "cell_type": "markdown",
   "metadata": {},
   "source": [
    "Which genres have just one song on the top 50?"
   ]
  },
  {
   "cell_type": "code",
   "execution_count": 45,
   "metadata": {},
   "outputs": [
    {
     "name": "stdout",
     "output_type": "stream",
     "text": [
      "genre\n",
      "Alternative/reggaeton/experimental    1\n",
      "Chamber pop                           1\n",
      "Dance-pop/Disco                       1\n",
      "Disco-pop                             1\n",
      "Dreampop/Hip-Hop/R&B                  1\n",
      "Hip-Hop/Trap                          1\n",
      "Nu-disco                              1\n",
      "Pop rap                               1\n",
      "Pop/Soft Rock                         1\n",
      "R&B/Hip-Hop alternative               1\n",
      "Name: track_name, dtype: int64\n"
     ]
    }
   ],
   "source": [
    "genre_track_counts = df.groupby('genre')['track_name'].count()\n",
    "genre_with_one_track = genre_track_counts[genre_track_counts == 1]\n",
    "print(genre_with_one_track)"
   ]
  },
  {
   "cell_type": "markdown",
   "metadata": {},
   "source": [
    "How many genres in total are represented in the top 50?"
   ]
  },
  {
   "cell_type": "code",
   "execution_count": 46,
   "metadata": {},
   "outputs": [
    {
     "name": "stdout",
     "output_type": "stream",
     "text": [
      "The number of distinct genres is: 16\n"
     ]
    }
   ],
   "source": [
    "distinct_genres_count = df['genre'].nunique()\n",
    "print(f\"The number of distinct genres is: {distinct_genres_count}\")"
   ]
  },
  {
   "cell_type": "markdown",
   "metadata": {},
   "source": [
    "Which features are strongly positively correlated?"
   ]
  },
  {
   "cell_type": "code",
   "execution_count": 47,
   "metadata": {},
   "outputs": [
    {
     "name": "stdout",
     "output_type": "stream",
     "text": [
      "Pairs of strongly positively correlated features:\n"
     ]
    }
   ],
   "source": [
    "numerical_features = df.select_dtypes(include=[np.number])\n",
    "\n",
    "correlation_matrix = numerical_features.corr()\n",
    "\n",
    "strongly_positively_correlated = (correlation_matrix > 0.8) & (correlation_matrix < 1)\n",
    "\n",
    "positively_correlated_features = []\n",
    "for feature in numerical_features.columns:\n",
    "    correlated_with = strongly_positively_correlated[feature][strongly_positively_correlated[feature]].index.tolist()\n",
    "    if correlated_with:\n",
    "        positively_correlated_features.append((feature, correlated_with))\n",
    "\n",
    "print(\"Pairs of strongly positively correlated features:\")\n",
    "for pair in positively_correlated_features:\n",
    "    print(f\"{pair[0]} is strongly positively correlated with {', '.join(pair[1])}\")"
   ]
  },
  {
   "cell_type": "markdown",
   "metadata": {},
   "source": [
    "Which features are strongly negatively correlated?"
   ]
  },
  {
   "cell_type": "code",
   "execution_count": 48,
   "metadata": {},
   "outputs": [
    {
     "name": "stdout",
     "output_type": "stream",
     "text": [
      "Pairs of strongly negatively correlated features:\n"
     ]
    }
   ],
   "source": [
    "strongly_negatively_correlated = (correlation_matrix < -0.8) & (correlation_matrix > -1)\n",
    "\n",
    "negatively_correlated_features = []\n",
    "for feature in numerical_features.columns:\n",
    "    correlated_with = strongly_negatively_correlated[feature][strongly_negatively_correlated[feature]].index.tolist()\n",
    "    if correlated_with:\n",
    "        negatively_correlated_features.append((feature, correlated_with))\n",
    "\n",
    "print(\"Pairs of strongly negatively correlated features:\")\n",
    "for pair in negatively_correlated_features:\n",
    "    print(f\"{pair[0]} is strongly negatively correlated with {', '.join(pair[1])}\")"
   ]
  },
  {
   "cell_type": "markdown",
   "metadata": {},
   "source": [
    "Which features are not correlated?"
   ]
  },
  {
   "cell_type": "code",
   "execution_count": 49,
   "metadata": {},
   "outputs": [
    {
     "name": "stdout",
     "output_type": "stream",
     "text": [
      "Uncorrelated features:\n",
      "[]\n"
     ]
    }
   ],
   "source": [
    "threshold = 0.1  \n",
    "\n",
    "uncorrelated_features = []\n",
    "for feature in numerical_features.columns:\n",
    "    is_uncorrelated = (correlation_matrix[feature] < threshold) & (correlation_matrix[feature] > -threshold)\n",
    "    if is_uncorrelated.sum() == 1: \n",
    "        uncorrelated_features.append(feature)\n",
    "\n",
    "print(\"Uncorrelated features:\")\n",
    "print(uncorrelated_features)"
   ]
  }
 ],
 "metadata": {
  "kernelspec": {
   "display_name": "Python 3",
   "language": "python",
   "name": "python3"
  },
  "language_info": {
   "codemirror_mode": {
    "name": "ipython",
    "version": 3
   },
   "file_extension": ".py",
   "mimetype": "text/x-python",
   "name": "python",
   "nbconvert_exporter": "python",
   "pygments_lexer": "ipython3",
   "version": "3.11.5"
  }
 },
 "nbformat": 4,
 "nbformat_minor": 2
}
